{
 "cells": [
  {
   "cell_type": "code",
   "execution_count": 7,
   "id": "994040f5-e427-4e05-8106-59831191f613",
   "metadata": {},
   "outputs": [
    {
     "name": "stdout",
     "output_type": "stream",
     "text": [
      "Error occurred: Missing optional dependency 'lxml'.  Use pip or conda to install lxml.\n",
      "Possible solutions:\n",
      "- Try again later (server might be blocking requests)\n",
      "- Check if the website structure has changed\n",
      "- Use alternative data sources like Yahoo Finance\n"
     ]
    },
    {
     "name": "stderr",
     "output_type": "stream",
     "text": [
      "/tmp/ipykernel_143455/114999032.py:40: FutureWarning: Passing literal html to 'read_html' is deprecated and will be removed in a future version. To read from a literal string, wrap it in a 'StringIO' object.\n",
      "  tesla_revenue = pd.read_html(str(revenue_table))[0]\n"
     ]
    }
   ],
   "source": [
    "import requests\n",
    "from bs4 import BeautifulSoup\n",
    "import pandas as pd\n",
    "\n",
    "url = \"https://www.macrotrends.net/stocks/charts/TSLA/tesla/revenue\"\n",
    "\n",
    "# 1. Add headers to mimic a real browser\n",
    "headers = {\n",
    "    'User-Agent': 'Mozilla/5.0 (Windows NT 10.0; Win64; x64) AppleWebKit/537.36 (KHTML, like Gecko) Chrome/91.0.4472.124 Safari/537.36'\n",
    "}\n",
    "\n",
    "try:\n",
    "    # 2. Make request with error handling\n",
    "    response = requests.get(url, headers=headers, timeout=10)\n",
    "    response.raise_for_status()  # Raises exception for 4XX/5XX errors\n",
    "    \n",
    "    soup = BeautifulSoup(response.text, 'html.parser')\n",
    "    \n",
    "    # 3. More robust table finding\n",
    "    tables = soup.find_all('table', class_='historical_data_table')  # Try specific class\n",
    "    \n",
    "    if not tables:\n",
    "        # Alternative table search\n",
    "        tables = soup.select('table.historical_data_table') or soup.find_all('table')\n",
    "    \n",
    "    if not tables:\n",
    "        raise ValueError(\"No tables found on the page\")\n",
    "    \n",
    "    # 4. Find the revenue table\n",
    "    revenue_table = None\n",
    "    for table in tables:\n",
    "        if \"Revenue\" in str(table):\n",
    "            revenue_table = table\n",
    "            break\n",
    "    \n",
    "    if revenue_table is None:\n",
    "        revenue_table = tables[0]  # Fallback to first table\n",
    "        \n",
    "    # 5. Process the table\n",
    "    tesla_revenue = pd.read_html(str(revenue_table))[0]\n",
    "    \n",
    "    # 6. Clean the data\n",
    "    tesla_revenue.columns = ['Date', 'Revenue']\n",
    "    tesla_revenue['Revenue'] = (\n",
    "        tesla_revenue['Revenue']\n",
    "        .str.replace(r'[\\$,]', '', regex=True)  # Combined regex replacement\n",
    "        .astype(float)\n",
    "    )\n",
    "    \n",
    "    print(\"Last 5 rows of Tesla Revenue:\")\n",
    "    print(tesla_revenue.tail())\n",
    "\n",
    "except Exception as e:\n",
    "    print(f\"Error occurred: {str(e)}\")\n",
    "    print(\"Possible solutions:\")\n",
    "    print(\"- Try again later (server might be blocking requests)\")\n",
    "    print(\"- Check if the website structure has changed\")\n",
    "    print(\"- Use alternative data sources like Yahoo Finance\")"
   ]
  },
  {
   "cell_type": "code",
   "execution_count": null,
   "id": "f7fa3db1-d8c9-48ee-a894-0c18ed0721fe",
   "metadata": {},
   "outputs": [
    {
     "name": "stdout",
     "output_type": "stream",
     "text": [
      "Collecting lxml\n",
      "  Downloading lxml-5.4.0-cp312-cp312-manylinux_2_28_x86_64.whl.metadata (3.5 kB)\n",
      "Downloading lxml-5.4.0-cp312-cp312-manylinux_2_28_x86_64.whl (5.0 MB)\n",
      "\u001b[2K   \u001b[38;2;114;156;31m━━━━━━━━━━━━━━━━━━━━━━━━━━━━━━━━━━━━━━━━\u001b[0m \u001b[32m5.0/5.0 MB\u001b[0m \u001b[31m3.5 MB/s\u001b[0m eta \u001b[36m0:00:00\u001b[0mm eta \u001b[36m0:00:01\u001b[0m0:01\u001b[0m:01\u001b[0m\n",
      "\u001b[?25h"
     ]
    }
   ],
   "source": [
    "pip install lxml\n"
   ]
  },
  {
   "cell_type": "code",
   "execution_count": null,
   "id": "b62ff9c7-6864-4477-9b3c-672ea4ba4747",
   "metadata": {},
   "outputs": [],
   "source": []
  }
 ],
 "metadata": {
  "kernelspec": {
   "display_name": "Python 3 (ipykernel)",
   "language": "python",
   "name": "python3"
  },
  "language_info": {
   "codemirror_mode": {
    "name": "ipython",
    "version": 3
   },
   "file_extension": ".py",
   "mimetype": "text/x-python",
   "name": "python",
   "nbconvert_exporter": "python",
   "pygments_lexer": "ipython3",
   "version": "3.12.3"
  }
 },
 "nbformat": 4,
 "nbformat_minor": 5
}

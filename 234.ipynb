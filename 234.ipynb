{
 "cells": [
  {
   "cell_type": "code",
   "execution_count": null,
   "id": "ac970d34-7985-4f29-bfa4-5227d6c6d3ca",
   "metadata": {},
   "outputs": [],
   "source": [
    "import yfinance as yf \n",
    "gme = yf.Ticker('GME')\n",
    "gme_data = gme.history(period = \"max\") \n",
    "gme_data.reset_index(inplace = True)"
   ]
  }
 ],
 "metadata": {
  "kernelspec": {
   "display_name": "Python 3 (ipykernel)",
   "language": "python",
   "name": "python3"
  },
  "language_info": {
   "codemirror_mode": {
    "name": "ipython",
    "version": 3
   },
   "file_extension": ".py",
   "mimetype": "text/x-python",
   "name": "python",
   "nbconvert_exporter": "python",
   "pygments_lexer": "ipython3",
   "version": "3.12.3"
  }
 },
 "nbformat": 4,
 "nbformat_minor": 5
}
